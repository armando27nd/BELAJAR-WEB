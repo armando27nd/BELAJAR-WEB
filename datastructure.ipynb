{
 "cells": [
  {
   "cell_type": "code",
   "execution_count": null,
   "metadata": {},
   "outputs": [
    {
     "name": "stdout",
     "output_type": "stream",
     "text": [
      "nilai saya 11.0\n"
     ]
    }
   ],
   "source": [
    "# STATNEBT DAN VARIABLE\n",
    "# variable = tempat menyimpan data sementara\n",
    "a = 5\n",
    "b = 6.0\n",
    "c = \"nilai saya \"\n",
    "d = a + b\n",
    "print(c + str(d))"
   ]
  },
  {
   "cell_type": "code",
   "execution_count": 2,
   "metadata": {},
   "outputs": [
    {
     "name": "stdout",
     "output_type": "stream",
     "text": [
      "nilai: 1\n"
     ]
    }
   ],
   "source": [
    "#Seleksi Kondisi\n",
    "#memilih suatu kondisi yang terpenuhi\n",
    "#fungsi aktivasi ===> ReLU.... if(n>0) maka n. else if(n<0) maka 0\n",
    "n = int(input(\"masukkan nilai: \")) #menerima input dari keyboard, kemudian casting ke int\n",
    "if(n > 0):\n",
    "    print(\"nilai: \"+str(n))\n",
    "else:\n",
    "    print(\"nilai: \"+str(n))"
   ]
  },
  {
   "cell_type": "code",
   "execution_count": 6,
   "metadata": {},
   "outputs": [
    {
     "name": "stdout",
     "output_type": "stream",
     "text": [
      "Salah !\n"
     ]
    }
   ],
   "source": [
    "#input n = 0 - 100\n",
    "# A: 85 - 100\n",
    "# B: 70 - 84\n",
    "# C: 60 - 69\n",
    "# D: <60\n",
    "#konsep Lazy Condition: AND, OR\n",
    "\n",
    "n = int(input(\"masukkan Nilai: \"))\n",
    "if(n>=85 and n<=100): #AND == 1 & 1 = 1, 1 & 0 = 0, 0 & 1 = 0, 0 & 0 = 0\n",
    "    print(\"A\")\n",
    "elif(n>=70 and n<=84):\n",
    "    print(\"B\")\n",
    "elif(n>=60 and n<=69):\n",
    "    print(\"C\")\n",
    "elif(n<60):\n",
    "    print(\"D\")\n",
    "else:\n",
    "    print(\"Salah !\")"
   ]
  },
  {
   "cell_type": "code",
   "execution_count": 19,
   "metadata": {},
   "outputs": [
    {
     "name": "stdout",
     "output_type": "stream",
     "text": [
      "Nil-1\n",
      "Nil-2\n",
      "Nil-3\n",
      "Nil-4\n",
      "Nil-5\n",
      "Nil-6\n",
      "Nil-7\n",
      "Nil-8\n",
      "Nil-9\n",
      "Nil-10\n"
     ]
    }
   ],
   "source": [
    "# Perulangan\n",
    "n = int(input(\"nil: \"))\n",
    "i = 0 # variable Bantu i, inisialisasi = 0\n",
    "while(i < n): #perintah perulangan while(cek kondisi apakah terpenuhi)\n",
    "    print(\"Nil-\" + str(i))\n",
    "    i = i + 1\n",
    "print(\"selesai\")"
   ]
  },
  {
   "cell_type": "code",
   "execution_count": null,
   "metadata": {},
   "outputs": [],
   "source": [
    "# Latihan Soal Faktor\n",
    "# Algoritma:\n",
    "## 1. terima N, ubah jadi int\n",
    "## 2. buat perulangan 1...N\n",
    "## 3. Setiap perulangan, akan dicek apakah N%1==0, jika ya maka i adalah faktor dari N\n",
    "n = int(input(\"masukkan Nilai: \"))\n",
    "for i in range (1 , n+1):\n",
    "    if(n%i==0):\n",
    "        print(str(i) + \" adalah faktor dari \" + str(n))"
   ]
  },
  {
   "cell_type": "code",
   "execution_count": null,
   "metadata": {
    "slideshow": {
     "slide_type": "subslide"
    }
   },
   "outputs": [],
   "source": [
    "# Latihan Soal Faktor\n",
    "# Algoritma:\n",
    "## 1. terima N, ubah jadi int\n",
    "## 2. buat perulangan 1...N\n",
    "## 3. Setiap perulangan, akan dicek apakah N%1==0, jika ya maka i adalah faktor dari N\n",
    "## MENGGUNAKAN WHILE\n",
    "a = int(input(\"nil: \"))\n",
    "i = 1\n",
    "while(i < a+1):\n",
    "    if(a%i==0):\n",
    "        print(str(i) + \"adalah faktor dari \" + str(a))"
   ]
  },
  {
   "cell_type": "code",
   "execution_count": null,
   "metadata": {},
   "outputs": [
    {
     "name": "stdout",
     "output_type": "stream",
     "text": [
      "genap\n"
     ]
    }
   ],
   "source": [
    "# Latihan Soal Ganjil Genap\n",
    "# Algoritma:\n",
    "## 1. terima N, ubah jadi int\n",
    "## 2. buat perulangan 1...N\n",
    "## 3. Setiap perulangan, akan dicek apakah i%2==0, jika ya maka i genap\n",
    "n = int(input(\"masukkan Nilai: \"))\n",
    "# for i in range (1 , n+1):\n",
    "if(n%2==0):\n",
    "    print(\"genap\")\n",
    "else:\n",
    "    print(\"ganjil\")"
   ]
  }
 ],
 "metadata": {
  "kernelspec": {
   "display_name": "Python 3",
   "language": "python",
   "name": "python3"
  },
  "language_info": {
   "codemirror_mode": {
    "name": "ipython",
    "version": 3
   },
   "file_extension": ".py",
   "mimetype": "text/x-python",
   "name": "python",
   "nbconvert_exporter": "python",
   "pygments_lexer": "ipython3",
   "version": "3.9.13"
  }
 },
 "nbformat": 4,
 "nbformat_minor": 2
}
